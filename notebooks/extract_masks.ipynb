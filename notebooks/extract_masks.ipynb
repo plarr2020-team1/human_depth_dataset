{
 "cells": [
  {
   "cell_type": "code",
   "execution_count": 1,
   "metadata": {},
   "outputs": [],
   "source": [
    "import pickle\n",
    "import numpy as np\n",
    "\n",
    "from tqdm import trange\n",
    "from yolact.infer import infer_segmentation\n",
    "\n",
    "from human_depth_dataset.dataset import (\n",
    "    RGBDPeopleDataset, \n",
    "    KittiHumanDepthDataset\n",
    ")"
   ]
  },
  {
   "cell_type": "markdown",
   "metadata": {},
   "source": [
    "## KITTI Masks"
   ]
  },
  {
   "cell_type": "code",
   "execution_count": 5,
   "metadata": {},
   "outputs": [],
   "source": [
    "kitti_dataset = KittiHumanDepthDataset(\n",
    "    '../scenes_with_min_2_people.txt', \n",
    "    '../data/kitti/val/',\n",
    "    None\n",
    ")"
   ]
  },
  {
   "cell_type": "code",
   "execution_count": 6,
   "metadata": {},
   "outputs": [
    {
     "name": "stderr",
     "output_type": "stream",
     "text": [
      "100%|██████████| 269/269 [00:39<00:00,  6.81it/s]\n"
     ]
    }
   ],
   "source": [
    "res = {}\n",
    "\n",
    "for i in trange(len(kitti_dataset)):\n",
    "    item = kitti_dataset.__getitem__(i)\n",
    "    img = item[\"rgb\"]\n",
    "    masks, masks_im, boxes = infer_segmentation(\"yolact_plus_resnet50_54_800000.pth\", np.array(img))\n",
    "    res[item['index']] = {\n",
    "        'mask': masks,\n",
    "        'boxes': boxes\n",
    "    }"
   ]
  },
  {
   "cell_type": "code",
   "execution_count": 7,
   "metadata": {},
   "outputs": [],
   "source": [
    "pickle.dump(res, open(\"../data/kitti/yolact.pkl\", \"wb\"))"
   ]
  },
  {
   "cell_type": "markdown",
   "metadata": {},
   "source": [
    "## RGBD Masks"
   ]
  },
  {
   "cell_type": "code",
   "execution_count": 2,
   "metadata": {},
   "outputs": [],
   "source": [
    "rgbd_dataset = RGBDPeopleDataset(\n",
    "    '../data/rgbd/',\n",
    "    None\n",
    ")"
   ]
  },
  {
   "cell_type": "code",
   "execution_count": 3,
   "metadata": {},
   "outputs": [
    {
     "name": "stderr",
     "output_type": "stream",
     "text": [
      "  0%|          | 0/3399 [00:00<?, ?it/s]"
     ]
    },
    {
     "name": "stdout",
     "output_type": "stream",
     "text": [
      "-> Loading model from  models/yolact_plus_resnet50_54_800000.pth\n",
      "   Loading pretrained model\n"
     ]
    },
    {
     "name": "stderr",
     "output_type": "stream",
     "text": [
      "100%|██████████| 3399/3399 [03:38<00:00, 15.53it/s]\n"
     ]
    }
   ],
   "source": [
    "res = {}\n",
    "\n",
    "for i in trange(len(rgbd_dataset)):\n",
    "    item = rgbd_dataset.__getitem__(i)\n",
    "    img = item[\"rgb\"]\n",
    "    masks, masks_im, boxes = infer_segmentation(\"yolact_plus_resnet50_54_800000.pth\", np.array(img))\n",
    "    res[item['index']] = {\n",
    "        'mask': masks,\n",
    "        'boxes': boxes\n",
    "    }"
   ]
  },
  {
   "cell_type": "code",
   "execution_count": 4,
   "metadata": {},
   "outputs": [],
   "source": [
    "pickle.dump(res, open(\"../data/rgbd/yolact.pkl\", \"wb\"))"
   ]
  }
 ],
 "metadata": {
  "kernelspec": {
   "display_name": "Python 3.6 PLARR",
   "language": "python",
   "name": "plarr-env"
  },
  "language_info": {
   "codemirror_mode": {
    "name": "ipython",
    "version": 3
   },
   "file_extension": ".py",
   "mimetype": "text/x-python",
   "name": "python",
   "nbconvert_exporter": "python",
   "pygments_lexer": "ipython3",
   "version": "3.6.10"
  }
 },
 "nbformat": 4,
 "nbformat_minor": 4
}
