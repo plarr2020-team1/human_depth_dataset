{
 "cells": [
  {
   "cell_type": "code",
   "execution_count": 5,
   "metadata": {},
   "outputs": [],
   "source": [
    "import pickle \n",
    "\n",
    "from tqdm import trange\n",
    "from human_depth_dataset.dataset import (\n",
    "    RGBDPeopleDataset, \n",
    "    KittiHumanDepthDataset\n",
    ")"
   ]
  },
  {
   "cell_type": "code",
   "execution_count": 6,
   "metadata": {},
   "outputs": [],
   "source": [
    "kitti_dataset = KittiHumanDepthDataset(\n",
    "    '../scenes_with_min_2_people.txt', \n",
    "    '../data/kitti/val/',\n",
    "    '../data/kitti/yolact.pkl'\n",
    ")"
   ]
  },
  {
   "cell_type": "code",
   "execution_count": 7,
   "metadata": {},
   "outputs": [
    {
     "name": "stderr",
     "output_type": "stream",
     "text": [
      "100%|██████████| 269/269 [00:01<00:00, 223.22it/s]\n"
     ]
    }
   ],
   "source": [
    "for i in trange(len(kitti_dataset)):\n",
    "    item = kitti_dataset.__getitem__(i)\n",
    "    img = item['rgb']\n",
    "    mask = item['mask']"
   ]
  },
  {
   "cell_type": "code",
   "execution_count": 8,
   "metadata": {},
   "outputs": [
    {
     "data": {
      "text/plain": [
       "269"
      ]
     },
     "execution_count": 8,
     "metadata": {},
     "output_type": "execute_result"
    }
   ],
   "source": [
    "len(kitti_dataset)"
   ]
  }
 ],
 "metadata": {
  "kernelspec": {
   "display_name": "Python 3.6 PLARR",
   "language": "python",
   "name": "plarr-env"
  },
  "language_info": {
   "codemirror_mode": {
    "name": "ipython",
    "version": 3
   },
   "file_extension": ".py",
   "mimetype": "text/x-python",
   "name": "python",
   "nbconvert_exporter": "python",
   "pygments_lexer": "ipython3",
   "version": "3.6.10"
  }
 },
 "nbformat": 4,
 "nbformat_minor": 4
}
